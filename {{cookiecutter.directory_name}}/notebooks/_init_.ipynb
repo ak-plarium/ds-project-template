{
 "cells": [
  {
   "cell_type": "code",
   "execution_count": null,
   "id": "2372b101",
   "metadata": {
    "vscode": {
     "languageId": "plaintext"
    }
   },
   "outputs": [],
   "source": [
    "# binds the 'src' folder to the search path for modules\n",
    "# Make sure to create every notebook with a first cell that runs this file via:\n",
    "# %run \"./_init_\"\n",
    "\n",
    "import sys\n",
    "sys.path.insert(0, \"../src\")"
   ]
  }
 ],
 "metadata": {
  "language_info": {
   "name": "python"
  }
 },
 "nbformat": 4,
 "nbformat_minor": 5
}
