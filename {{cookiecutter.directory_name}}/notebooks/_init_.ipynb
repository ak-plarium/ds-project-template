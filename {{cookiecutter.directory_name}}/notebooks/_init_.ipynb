{
 "cells": [
  {
   "cell_type": "code",
   "execution_count": null,
   "id": "2372b101",
   "metadata": {},
   "outputs": [],
   "source": [
    "# binds the 'src' folder to the search path for modules\n",
    "# In DataBricks: Make sure to create every notebook with a first cell that runs this file via:\n",
    "# %run \"./_init_\"\n",
    "# When running locally, ignore the cell\n",
    "from pathlib import Path\n",
    "from typing import Tuple\n",
    "\n",
    "def __find_src(current_path: Path) -> Tuple[Path, str]:\n",
    "    \"\"\"Will cycle up the current path until it finds the directory that \n",
    "    meets all sub-directories in DIRECTORY_CONSTANTS.\n",
    "    \n",
    "    Will return the 'src' directory as a Path object.\"\"\"\n",
    "    \n",
    "    DIRECTORY_CONSTANTS = [\"src\", \"notebooks\", \"tests\", \"data\", \"reports\"]\n",
    "\n",
    "    # to print the path\n",
    "    tree = [f\"**{list(current_path.parts)[-1]}**\"]\n",
    "\n",
    "    for parent in current_path.parents:\n",
    "        tree.insert(0, list(parent.parts)[-1])\n",
    "        condition = all((parent / subdir).exists() for subdir in DIRECTORY_CONSTANTS)\n",
    "        if condition:\n",
    "            tree_str = '.' \n",
    "            for i, subdir in enumerate(tree):\n",
    "                tree_str += ('\\n' + '    '*i + f'└── {subdir}')\n",
    "\n",
    "            return parent / \"src\", tree_str\n",
    "    raise FileNotFoundError(\"Could not find the 'src' directory in the expected structure.\")\n",
    "\n",
    "def __add_src_to_path():\n",
    "    \"\"\"Will cycle up the current path until it finds the directory that \n",
    "    meets all sub-directories in DIRECTORY_CONSTANTS.\n",
    "    \n",
    "    Will add the 'src' directory to the Python path.\"\"\"\n",
    "    import sys\n",
    "    import os\n",
    "    src_path, _ = __find_src(current_path=Path(os.getcwd()).resolve())\n",
    "    sys.path.insert(0, src_path)\n",
    "\n",
    "__add_src_to_path()"
   ]
  },
  {
   "cell_type": "code",
   "execution_count": 1,
   "id": "741b5459",
   "metadata": {},
   "outputs": [
    {
     "name": "stdout",
     "output_type": "stream",
     "text": [
      "['/', 'Users', 'Aviad.Klein', 'Documents', 'learning', 'ds-project-template', '{{cookiecutter.directory_name}}', 'notebooks']\n"
     ]
    }
   ],
   "source": [
    "import os\n",
    "from pathlib import Path\n",
    "p = Path(os.getcwd()).resolve()\n",
    "\n",
    "print(list(p.parts))"
   ]
  },
  {
   "cell_type": "code",
   "execution_count": null,
   "id": "ebece50e",
   "metadata": {},
   "outputs": [],
   "source": []
  }
 ],
 "metadata": {
  "kernelspec": {
   "display_name": "Python 3",
   "language": "python",
   "name": "python3"
  },
  "language_info": {
   "codemirror_mode": {
    "name": "ipython",
    "version": 3
   },
   "file_extension": ".py",
   "mimetype": "text/x-python",
   "name": "python",
   "nbconvert_exporter": "python",
   "pygments_lexer": "ipython3",
   "version": "3.11.2"
  }
 },
 "nbformat": 4,
 "nbformat_minor": 5
}
