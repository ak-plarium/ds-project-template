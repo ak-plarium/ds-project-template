{
 "cells": [
  {
   "cell_type": "code",
   "execution_count": null,
   "id": "0",
   "metadata": {
    "vscode": {
     "languageId": "plaintext"
    }
   },
   "outputs": [],
   "source": [
    "try:\n",
    "    from __util__ import __attach_src; __attach_src()\n",
    "except ModuleNotFoundError as e:\n",
    "    if e.msg != \"No module named '__util__'\":\n",
    "        raise e"
   ]
  },
  {
   "cell_type": "code",
   "execution_count": null,
   "id": "1",
   "metadata": {
    "vscode": {
     "languageId": "plaintext"
    }
   },
   "outputs": [],
   "source": [
    "from {{cookiecutter.project_slug}}.util import hello_world\n",
    "\n",
    "print(hello_world())"
   ]
  }
 ],
 "metadata": {
  "language_info": {
   "name": "python"
  }
 },
 "nbformat": 4,
 "nbformat_minor": 5
}
