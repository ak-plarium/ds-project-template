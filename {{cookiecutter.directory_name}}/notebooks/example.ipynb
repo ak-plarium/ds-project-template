{
 "cells": [
  {
   "cell_type": "code",
   "execution_count": null,
   "id": "fa67d032",
   "metadata": {
    "vscode": {
     "languageId": "plaintext"
    }
   },
   "outputs": [],
   "source": [
    "%run \"./_init_\""
   ]
  },
  {
   "cell_type": "code",
   "execution_count": null,
   "id": "b88e546c",
   "metadata": {
    "vscode": {
     "languageId": "plaintext"
    }
   },
   "outputs": [],
   "source": [
    "from {{cookiecutter.project_slug}}.util import hello_world\n",
    "\n",
    "print(hello_world())"
   ]
  }
 ],
 "metadata": {
  "language_info": {
   "name": "python"
  }
 },
 "nbformat": 4,
 "nbformat_minor": 5
}
